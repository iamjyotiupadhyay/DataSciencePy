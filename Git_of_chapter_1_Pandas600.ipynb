{
  "cells": [
    {
      "cell_type": "markdown",
      "metadata": {
        "id": "view-in-github",
        "colab_type": "text"
      },
      "source": [
        "<a href=\"https://colab.research.google.com/github/iamjyotiupadhyay/DataSciencePy/blob/bugFix2/Git_of_chapter_1_Pandas600.ipynb\" target=\"_parent\"><img src=\"https://colab.research.google.com/assets/colab-badge.svg\" alt=\"Open In Colab\"/></a>"
      ]
    },
    {
      "cell_type": "markdown",
      "metadata": {
        "id": "u7xd5JIZwTmV"
      },
      "source": [
        "# **Pandas**"
      ]
    },
    {
      "cell_type": "markdown",
      "source": [
        "#Install Pandas"
      ],
      "metadata": {
        "id": "RuMsvKRguX3u"
      }
    },
    {
      "cell_type": "code",
      "source": [
        "!pip install pandas"
      ],
      "metadata": {
        "id": "CEoUGqwquhTP",
        "colab": {
          "base_uri": "https://localhost:8080/"
        },
        "outputId": "e4e6c7ef-9436-450d-e1ca-23ae9c6dfef4"
      },
      "execution_count": null,
      "outputs": [
        {
          "output_type": "stream",
          "name": "stdout",
          "text": [
            "Looking in indexes: https://pypi.org/simple, https://us-python.pkg.dev/colab-wheels/public/simple/\n",
            "Requirement already satisfied: pandas in /usr/local/lib/python3.9/dist-packages (1.5.3)\n",
            "Requirement already satisfied: pytz>=2020.1 in /usr/local/lib/python3.9/dist-packages (from pandas) (2022.7.1)\n",
            "Requirement already satisfied: numpy>=1.20.3 in /usr/local/lib/python3.9/dist-packages (from pandas) (1.22.4)\n",
            "Requirement already satisfied: python-dateutil>=2.8.1 in /usr/local/lib/python3.9/dist-packages (from pandas) (2.8.2)\n",
            "Requirement already satisfied: six>=1.5 in /usr/local/lib/python3.9/dist-packages (from python-dateutil>=2.8.1->pandas) (1.16.0)\n"
          ]
        }
      ]
    },
    {
      "cell_type": "code",
      "source": [],
      "metadata": {
        "id": "VmmPVHJLgzyw"
      },
      "execution_count": null,
      "outputs": []
    },
    {
      "cell_type": "markdown",
      "source": [
        "#Importing pandas"
      ],
      "metadata": {
        "id": "R8zSVc1LulfD"
      }
    },
    {
      "cell_type": "code",
      "execution_count": null,
      "metadata": {
        "id": "9SzWyjM9wVR5"
      },
      "outputs": [],
      "source": [
        "import pandas as pd"
      ]
    },
    {
      "cell_type": "markdown",
      "source": [
        "#Check version of pandas"
      ],
      "metadata": {
        "id": "SQ0FbGxJurzz"
      }
    },
    {
      "cell_type": "code",
      "source": [
        "pd.__version__ #after executing the line -'2'"
      ],
      "metadata": {
        "colab": {
          "base_uri": "https://localhost:8080/",
          "height": 35
        },
        "id": "jhAe_EaQuu4f",
        "outputId": "ccd8c656-0fac-4ac8-c75a-2bf57d1080a5"
      },
      "execution_count": null,
      "outputs": [
        {
          "output_type": "execute_result",
          "data": {
            "text/plain": [
              "'1.5.3'"
            ],
            "application/vnd.google.colaboratory.intrinsic+json": {
              "type": "string"
            }
          },
          "metadata": {},
          "execution_count": 5
        }
      ]
    },
    {
      "cell_type": "markdown",
      "metadata": {
        "id": "wXoucCQ8w9pl"
      },
      "source": [
        "**Pandas data structures**\n",
        "\n",
        "\n",
        "\n",
        "---\n",
        "\n",
        "There are two types of data structures in pandas: Series and DataFrames\n",
        "\n",
        "\n",
        "\n",
        "\n",
        "\n",
        "---\n",
        "\n",
        "**Series:**\n",
        "\n",
        "A pandas Series is a one dimensional data structure (“a one dimensional ndarray”) that can store values — and for every value it holds a unique index, too.\n",
        "\n",
        "\n",
        "\n",
        "---\n",
        "\n",
        "[Intro to Data Structures](https://pandas.pydata.org/pandas-docs/stable/getting_started/dsintro.html)\n",
        "\n",
        "[Python Pandas - Series](https://www.tutorialspoint.com/python_pandas/python_pandas_series.htm)\n"
      ]
    },
    {
      "cell_type": "markdown",
      "metadata": {
        "id": "2rI_4HJW0-3E"
      },
      "source": [
        "# **Example** :Create a empty series in pandas and check the type of the series."
      ]
    },
    {
      "cell_type": "code",
      "execution_count": null,
      "metadata": {
        "id": "0uyiZsxCwz9m"
      },
      "outputs": [],
      "source": [
        "s = pd.Series([],dtype ='object')"
      ]
    },
    {
      "cell_type": "code",
      "source": [
        "type(s)"
      ],
      "metadata": {
        "colab": {
          "base_uri": "https://localhost:8080/"
        },
        "id": "4mpuMJNnwGNS",
        "outputId": "7ea58748-b2bf-4ee7-d2d7-e6efc1dbc94e"
      },
      "execution_count": null,
      "outputs": [
        {
          "output_type": "execute_result",
          "data": {
            "text/plain": [
              "pandas.core.series.Series"
            ]
          },
          "metadata": {},
          "execution_count": 7
        }
      ]
    },
    {
      "cell_type": "markdown",
      "metadata": {
        "id": "cH8QpatX1BPj"
      },
      "source": [
        "# **Example** : Create the series from numpy array"
      ]
    },
    {
      "cell_type": "code",
      "execution_count": null,
      "metadata": {
        "colab": {
          "base_uri": "https://localhost:8080/"
        },
        "id": "N7gnUa-6zo6c",
        "outputId": "c20f108d-23cb-4782-f14b-be8929437ac2"
      },
      "outputs": [
        {
          "output_type": "execute_result",
          "data": {
            "text/plain": [
              "0    a\n",
              "1    e\n",
              "2    i\n",
              "3    o\n",
              "4    u\n",
              "dtype: object"
            ]
          },
          "metadata": {},
          "execution_count": 8
        }
      ],
      "source": [
        "# Example Create a series from array\n",
        "import numpy as np\n",
        "vowel = np.array(['a','e','i','o','u'])\n",
        "pd.Series(vowel)"
      ]
    },
    {
      "cell_type": "markdown",
      "metadata": {
        "id": "ChO9TI011DDr"
      },
      "source": [
        "# **Example** : Create a series from array with specified index"
      ]
    },
    {
      "cell_type": "code",
      "execution_count": null,
      "metadata": {
        "colab": {
          "base_uri": "https://localhost:8080/"
        },
        "id": "Nez4fFu2ztYq",
        "outputId": "dd312ca3-2db3-439f-fd46-6920575d1b9c"
      },
      "outputs": [
        {
          "output_type": "execute_result",
          "data": {
            "text/plain": [
              "1     a\n",
              "5     e\n",
              "9     i\n",
              "15    o\n",
              "21    u\n",
              "dtype: object"
            ]
          },
          "metadata": {},
          "execution_count": 9
        }
      ],
      "source": [
        "# Example Create a series from numpy array with specified index\n",
        "import numpy as np\n",
        "vowel = np.array(['a','e','i','o','u'])\n",
        "s = pd.Series(vowel,index = [1,5,9,15,21])\n",
        "s"
      ]
    },
    {
      "cell_type": "code",
      "source": [
        "s.index"
      ],
      "metadata": {
        "colab": {
          "base_uri": "https://localhost:8080/"
        },
        "id": "1LtBp4c6x0IU",
        "outputId": "15734d41-bf1d-415b-912b-744f2c410de8"
      },
      "execution_count": null,
      "outputs": [
        {
          "output_type": "execute_result",
          "data": {
            "text/plain": [
              "Int64Index([1, 5, 9, 15, 21], dtype='int64')"
            ]
          },
          "metadata": {},
          "execution_count": 10
        }
      ]
    },
    {
      "cell_type": "code",
      "source": [
        "s.values"
      ],
      "metadata": {
        "colab": {
          "base_uri": "https://localhost:8080/"
        },
        "id": "SWfFRiB0x7c7",
        "outputId": "9cbcc0fc-c8e5-4584-828c-5e55748b3aea"
      },
      "execution_count": null,
      "outputs": [
        {
          "output_type": "execute_result",
          "data": {
            "text/plain": [
              "array(['a', 'e', 'i', 'o', 'u'], dtype=object)"
            ]
          },
          "metadata": {},
          "execution_count": 11
        }
      ]
    },
    {
      "cell_type": "code",
      "source": [
        "s[15]"
      ],
      "metadata": {
        "colab": {
          "base_uri": "https://localhost:8080/",
          "height": 35
        },
        "id": "JjaptWUMx_ez",
        "outputId": "da3851cf-f0d6-40fb-f752-177da79199ed"
      },
      "execution_count": null,
      "outputs": [
        {
          "output_type": "execute_result",
          "data": {
            "text/plain": [
              "'o'"
            ],
            "application/vnd.google.colaboratory.intrinsic+json": {
              "type": "string"
            }
          },
          "metadata": {},
          "execution_count": 12
        }
      ]
    },
    {
      "cell_type": "code",
      "source": [
        "s[5]"
      ],
      "metadata": {
        "colab": {
          "base_uri": "https://localhost:8080/",
          "height": 35
        },
        "id": "q7DDQPXayCHG",
        "outputId": "d2701dc2-f1ef-4c1c-f7aa-d2e4d67844d2"
      },
      "execution_count": null,
      "outputs": [
        {
          "output_type": "execute_result",
          "data": {
            "text/plain": [
              "'e'"
            ],
            "application/vnd.google.colaboratory.intrinsic+json": {
              "type": "string"
            }
          },
          "metadata": {},
          "execution_count": 13
        }
      ]
    },
    {
      "cell_type": "markdown",
      "metadata": {
        "id": "tbYbkdeN0o41"
      },
      "source": [
        "# **Create a series from python dictionary**"
      ]
    },
    {
      "cell_type": "code",
      "source": [
        "d = {'a':1,'e':5,'i':9,'o':15,'u':21}\n",
        "s = pd.Series(d) #Converting dictionary into series "
      ],
      "metadata": {
        "id": "EYvAkPs7x-p8"
      },
      "execution_count": null,
      "outputs": []
    },
    {
      "cell_type": "code",
      "source": [
        "s"
      ],
      "metadata": {
        "colab": {
          "base_uri": "https://localhost:8080/"
        },
        "id": "rKjHfr5JxzLt",
        "outputId": "508c0a48-befa-4fd0-e421-cb55b9988033"
      },
      "execution_count": null,
      "outputs": [
        {
          "output_type": "execute_result",
          "data": {
            "text/plain": [
              "a     1\n",
              "e     5\n",
              "i     9\n",
              "o    15\n",
              "u    21\n",
              "dtype: int64"
            ]
          },
          "metadata": {},
          "execution_count": 15
        }
      ]
    },
    {
      "cell_type": "code",
      "source": [
        "dic = {'abc': 1,'bca':2,'das':3}\n",
        "dic = pd.Series(dic)\n"
      ],
      "metadata": {
        "id": "GTy7_L-shWp2"
      },
      "execution_count": null,
      "outputs": []
    },
    {
      "cell_type": "code",
      "source": [
        "dic[2]"
      ],
      "metadata": {
        "colab": {
          "base_uri": "https://localhost:8080/"
        },
        "id": "3B3iWlawhxdW",
        "outputId": "7711b4d5-20d9-4ff3-c417-236767b73b91"
      },
      "execution_count": null,
      "outputs": [
        {
          "output_type": "execute_result",
          "data": {
            "text/plain": [
              "3"
            ]
          },
          "metadata": {},
          "execution_count": 28
        }
      ]
    },
    {
      "cell_type": "code",
      "source": [
        "s['o']"
      ],
      "metadata": {
        "colab": {
          "base_uri": "https://localhost:8080/"
        },
        "id": "dOmdFnse0B3o",
        "outputId": "935c6551-a96b-4e12-e4fd-1f04a5332e64"
      },
      "execution_count": null,
      "outputs": [
        {
          "output_type": "execute_result",
          "data": {
            "text/plain": [
              "15"
            ]
          },
          "metadata": {},
          "execution_count": 17
        }
      ]
    },
    {
      "cell_type": "code",
      "source": [
        "s[4]"
      ],
      "metadata": {
        "colab": {
          "base_uri": "https://localhost:8080/"
        },
        "id": "WeIM8hM50m-L",
        "outputId": "27eee613-3e0a-4f60-f1fd-70a0a2535fcd"
      },
      "execution_count": null,
      "outputs": [
        {
          "output_type": "execute_result",
          "data": {
            "text/plain": [
              "21"
            ]
          },
          "metadata": {},
          "execution_count": 18
        }
      ]
    },
    {
      "cell_type": "code",
      "execution_count": null,
      "metadata": {
        "colab": {
          "base_uri": "https://localhost:8080/"
        },
        "id": "WQpbSqJW0tH7",
        "outputId": "077f68d2-579e-460e-d9ae-99c2b72789f0"
      },
      "outputs": [
        {
          "output_type": "execute_result",
          "data": {
            "text/plain": [
              "15"
            ]
          },
          "metadata": {},
          "execution_count": 19
        }
      ],
      "source": [
        "s.get(\"o\")"
      ]
    },
    {
      "cell_type": "markdown",
      "metadata": {
        "id": "mZpSOkyF1Z3l"
      },
      "source": [
        "# **Accessing Data from Series with Position Index**"
      ]
    },
    {
      "cell_type": "code",
      "execution_count": null,
      "metadata": {
        "colab": {
          "base_uri": "https://localhost:8080/"
        },
        "id": "BmLfrzL91a-x",
        "outputId": "815e63a2-782f-4c84-fade-4a2b91f089ac"
      },
      "outputs": [
        {
          "output_type": "execute_result",
          "data": {
            "text/plain": [
              "a    1\n",
              "b    2\n",
              "c    3\n",
              "d    4\n",
              "e    5\n",
              "dtype: int64"
            ]
          },
          "metadata": {},
          "execution_count": 20
        }
      ],
      "source": [
        "s = pd.Series([1,2,3,4,5],index = ['a','b','c','d','e'])\n",
        "\n",
        "#retrieve the first three element\n",
        "\n",
        "s"
      ]
    },
    {
      "cell_type": "code",
      "source": [
        "print(s['a'])\n",
        "print(s[0])"
      ],
      "metadata": {
        "colab": {
          "base_uri": "https://localhost:8080/"
        },
        "id": "21EJD8fE07Cd",
        "outputId": "51e10d42-04c2-4564-f1eb-c11ec4589416"
      },
      "execution_count": null,
      "outputs": [
        {
          "output_type": "stream",
          "name": "stdout",
          "text": [
            "1\n",
            "1\n"
          ]
        }
      ]
    },
    {
      "cell_type": "code",
      "source": [
        "print(s[1])\n",
        "print(s[2])"
      ],
      "metadata": {
        "colab": {
          "base_uri": "https://localhost:8080/"
        },
        "id": "t-uMbUwT1FxN",
        "outputId": "8106602c-2584-492b-bd92-e1ae997ba97d"
      },
      "execution_count": null,
      "outputs": [
        {
          "output_type": "stream",
          "name": "stdout",
          "text": [
            "2\n",
            "3\n"
          ]
        }
      ]
    },
    {
      "cell_type": "code",
      "source": [
        "#retrieve the first three element once\n",
        "print (s[:3])"
      ],
      "metadata": {
        "id": "ioN4RC9oXhrH",
        "colab": {
          "base_uri": "https://localhost:8080/"
        },
        "outputId": "d54a5e0d-8de3-4a0f-83b2-408e48672258"
      },
      "execution_count": null,
      "outputs": [
        {
          "output_type": "stream",
          "name": "stdout",
          "text": [
            "a    1\n",
            "b    2\n",
            "c    3\n",
            "dtype: int64\n"
          ]
        }
      ]
    },
    {
      "cell_type": "code",
      "source": [],
      "metadata": {
        "id": "1zd0uFHp1Esw"
      },
      "execution_count": null,
      "outputs": []
    },
    {
      "cell_type": "code",
      "source": [
        "s[:2]"
      ],
      "metadata": {
        "colab": {
          "base_uri": "https://localhost:8080/"
        },
        "id": "K9fxgc8H0UDE",
        "outputId": "cc610fd2-21f4-453a-e928-1b151312652d"
      },
      "execution_count": null,
      "outputs": [
        {
          "output_type": "execute_result",
          "data": {
            "text/plain": [
              "a    1\n",
              "b    2\n",
              "dtype: int64"
            ]
          },
          "metadata": {},
          "execution_count": 24
        }
      ]
    },
    {
      "cell_type": "markdown",
      "metadata": {
        "id": "1x3FPw_X2GWh"
      },
      "source": [
        "**Retrieve a single element using index label value.**"
      ]
    },
    {
      "cell_type": "code",
      "execution_count": null,
      "metadata": {
        "colab": {
          "base_uri": "https://localhost:8080/"
        },
        "id": "gbD9C2eQ2HVX",
        "outputId": "3e1bde75-6895-4772-fe85-4910606635ca"
      },
      "outputs": [
        {
          "output_type": "stream",
          "name": "stdout",
          "text": [
            "1\n"
          ]
        }
      ],
      "source": [
        "s = pd.Series([1,2,3,4,5],index = ['a','b','c','d','e'])\n",
        "\n",
        "#retrieve a single element\n",
        "print(s['a'])"
      ]
    },
    {
      "cell_type": "code",
      "execution_count": null,
      "metadata": {
        "id": "PsfN9YxFBMIA"
      },
      "outputs": [],
      "source": [
        "dic = pd.Series(['abc','bca','dsa'],index=[1,2,3])"
      ]
    },
    {
      "cell_type": "code",
      "execution_count": null,
      "metadata": {
        "id": "kZpLOI0UWRwO",
        "colab": {
          "base_uri": "https://localhost:8080/"
        },
        "outputId": "bc3afb15-10b4-42ac-aa13-810d0eb63763"
      },
      "outputs": [
        {
          "output_type": "execute_result",
          "data": {
            "text/plain": [
              "1    abc\n",
              "2    bca\n",
              "3    dsa\n",
              "dtype: object"
            ]
          },
          "metadata": {},
          "execution_count": 30
        }
      ],
      "source": [
        "dic"
      ]
    },
    {
      "cell_type": "code",
      "source": [],
      "metadata": {
        "id": "trXvvSP8iQEY"
      },
      "execution_count": null,
      "outputs": []
    }
  ],
  "metadata": {
    "colab": {
      "provenance": [],
      "include_colab_link": true
    },
    "kernelspec": {
      "display_name": "Python 3 (ipykernel)",
      "language": "python",
      "name": "python3"
    },
    "language_info": {
      "codemirror_mode": {
        "name": "ipython",
        "version": 3
      },
      "file_extension": ".py",
      "mimetype": "text/x-python",
      "name": "python",
      "nbconvert_exporter": "python",
      "pygments_lexer": "ipython3",
      "version": "3.8.10"
    }
  },
  "nbformat": 4,
  "nbformat_minor": 0
}